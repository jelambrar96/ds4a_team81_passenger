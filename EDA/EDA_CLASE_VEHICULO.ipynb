{
 "cells": [
  {
   "cell_type": "code",
   "execution_count": 34,
   "metadata": {},
   "outputs": [],
   "source": [
    "import pandas as pd\n",
    "import matplotlib.pyplot as plt"
   ]
  },
  {
   "cell_type": "code",
   "execution_count": 35,
   "metadata": {},
   "outputs": [],
   "source": [
    "import seaborn as sbn"
   ]
  },
  {
   "cell_type": "code",
   "execution_count": 36,
   "metadata": {},
   "outputs": [
    {
     "data": {
      "text/html": [
       "<div>\n",
       "<style scoped>\n",
       "    .dataframe tbody tr th:only-of-type {\n",
       "        vertical-align: middle;\n",
       "    }\n",
       "\n",
       "    .dataframe tbody tr th {\n",
       "        vertical-align: top;\n",
       "    }\n",
       "\n",
       "    .dataframe thead th {\n",
       "        text-align: right;\n",
       "    }\n",
       "</style>\n",
       "<table border=\"1\" class=\"dataframe\">\n",
       "  <thead>\n",
       "    <tr style=\"text-align: right;\">\n",
       "      <th></th>\n",
       "      <th>TERMINAL</th>\n",
       "      <th>CLASE_VEHICULO</th>\n",
       "      <th>NIVEL_SERVICIO</th>\n",
       "      <th>MUNICIPIO_ORIGEN_RUTA</th>\n",
       "      <th>MUNICIPIO_DESTINO_RUTA</th>\n",
       "      <th>FECHA_DESPACHO</th>\n",
       "      <th>HORA_DESPACHO</th>\n",
       "      <th>TIPO_DESPACHO</th>\n",
       "      <th>DESPACHOS</th>\n",
       "      <th>PASAJEROS</th>\n",
       "    </tr>\n",
       "  </thead>\n",
       "  <tbody>\n",
       "    <tr>\n",
       "      <th>0</th>\n",
       "      <td>T.T. DE BOGOTÁ NORTE</td>\n",
       "      <td>MICROBUS</td>\n",
       "      <td>LUJO</td>\n",
       "      <td>11001.0</td>\n",
       "      <td>15759.0</td>\n",
       "      <td>03/01/2021 12:00:00 AM</td>\n",
       "      <td>8.0</td>\n",
       "      <td>TRANSITO</td>\n",
       "      <td>2.0</td>\n",
       "      <td>0.0</td>\n",
       "    </tr>\n",
       "    <tr>\n",
       "      <th>1</th>\n",
       "      <td>T.T. DE BOGOTÁ SALITRE</td>\n",
       "      <td>BUS</td>\n",
       "      <td>LUJO</td>\n",
       "      <td>11001.0</td>\n",
       "      <td>76001.0</td>\n",
       "      <td>03/12/2021 12:00:00 AM</td>\n",
       "      <td>11.0</td>\n",
       "      <td>ORIGEN</td>\n",
       "      <td>4.0</td>\n",
       "      <td>45.0</td>\n",
       "    </tr>\n",
       "    <tr>\n",
       "      <th>2</th>\n",
       "      <td>T.T. DE CALI</td>\n",
       "      <td>BUSETA</td>\n",
       "      <td>BASICO</td>\n",
       "      <td>76001.0</td>\n",
       "      <td>52378.0</td>\n",
       "      <td>01/09/2021 12:00:00 AM</td>\n",
       "      <td>6.0</td>\n",
       "      <td>ORIGEN</td>\n",
       "      <td>1.0</td>\n",
       "      <td>3.0</td>\n",
       "    </tr>\n",
       "    <tr>\n",
       "      <th>3</th>\n",
       "      <td>T.T. DE MELGAR</td>\n",
       "      <td>MICROBUS</td>\n",
       "      <td>BASICO</td>\n",
       "      <td>73449.0</td>\n",
       "      <td>25488.0</td>\n",
       "      <td>02/28/2021 12:00:00 AM</td>\n",
       "      <td>12.0</td>\n",
       "      <td>ORIGEN</td>\n",
       "      <td>1.0</td>\n",
       "      <td>1.0</td>\n",
       "    </tr>\n",
       "    <tr>\n",
       "      <th>4</th>\n",
       "      <td>T.T. DE MANIZALES</td>\n",
       "      <td>MICROBUS</td>\n",
       "      <td>LUJO</td>\n",
       "      <td>17001.0</td>\n",
       "      <td>17174.0</td>\n",
       "      <td>01/28/2021 12:00:00 AM</td>\n",
       "      <td>20.0</td>\n",
       "      <td>ORIGEN</td>\n",
       "      <td>1.0</td>\n",
       "      <td>13.0</td>\n",
       "    </tr>\n",
       "  </tbody>\n",
       "</table>\n",
       "</div>"
      ],
      "text/plain": [
       "                 TERMINAL CLASE_VEHICULO NIVEL_SERVICIO  \\\n",
       "0    T.T. DE BOGOTÁ NORTE       MICROBUS           LUJO   \n",
       "1  T.T. DE BOGOTÁ SALITRE            BUS           LUJO   \n",
       "2            T.T. DE CALI         BUSETA         BASICO   \n",
       "3          T.T. DE MELGAR       MICROBUS         BASICO   \n",
       "4       T.T. DE MANIZALES       MICROBUS           LUJO   \n",
       "\n",
       "   MUNICIPIO_ORIGEN_RUTA  MUNICIPIO_DESTINO_RUTA          FECHA_DESPACHO  \\\n",
       "0                11001.0                 15759.0  03/01/2021 12:00:00 AM   \n",
       "1                11001.0                 76001.0  03/12/2021 12:00:00 AM   \n",
       "2                76001.0                 52378.0  01/09/2021 12:00:00 AM   \n",
       "3                73449.0                 25488.0  02/28/2021 12:00:00 AM   \n",
       "4                17001.0                 17174.0  01/28/2021 12:00:00 AM   \n",
       "\n",
       "   HORA_DESPACHO TIPO_DESPACHO  DESPACHOS  PASAJEROS  \n",
       "0            8.0      TRANSITO        2.0        0.0  \n",
       "1           11.0        ORIGEN        4.0       45.0  \n",
       "2            6.0        ORIGEN        1.0        3.0  \n",
       "3           12.0        ORIGEN        1.0        1.0  \n",
       "4           20.0        ORIGEN        1.0       13.0  "
      ]
     },
     "execution_count": 36,
     "metadata": {},
     "output_type": "execute_result"
    }
   ],
   "source": [
    "filepath = './data/Operaci_n_de_pasajeros_y_despacho_de_veh_culos_en_la_modalidad_de_transporte_de_pasajeros_por_carretera.csv'\n",
    "\n",
    "df = pd.read_csv(filepath)\n",
    "\n",
    "df.head(5)"
   ]
  },
  {
   "cell_type": "code",
   "execution_count": 37,
   "metadata": {},
   "outputs": [],
   "source": [
    "df1 = df.groupby('CLASE_VEHICULO')['PASAJEROS', 'DESPACHOS'].sum()"
   ]
  },
  {
   "cell_type": "code",
   "execution_count": 38,
   "metadata": {},
   "outputs": [
    {
     "data": {
      "text/html": [
       "<div>\n",
       "<style scoped>\n",
       "    .dataframe tbody tr th:only-of-type {\n",
       "        vertical-align: middle;\n",
       "    }\n",
       "\n",
       "    .dataframe tbody tr th {\n",
       "        vertical-align: top;\n",
       "    }\n",
       "\n",
       "    .dataframe thead th {\n",
       "        text-align: right;\n",
       "    }\n",
       "</style>\n",
       "<table border=\"1\" class=\"dataframe\">\n",
       "  <thead>\n",
       "    <tr style=\"text-align: right;\">\n",
       "      <th></th>\n",
       "      <th>PASAJEROS</th>\n",
       "      <th>DESPACHOS</th>\n",
       "    </tr>\n",
       "    <tr>\n",
       "      <th>CLASE_VEHICULO</th>\n",
       "      <th></th>\n",
       "      <th></th>\n",
       "    </tr>\n",
       "  </thead>\n",
       "  <tbody>\n",
       "    <tr>\n",
       "      <th>AUTOMOVIL</th>\n",
       "      <td>1395752.0</td>\n",
       "      <td>455596.0</td>\n",
       "    </tr>\n",
       "    <tr>\n",
       "      <th>BUS</th>\n",
       "      <td>30605282.0</td>\n",
       "      <td>3430374.0</td>\n",
       "    </tr>\n",
       "    <tr>\n",
       "      <th>BUSETA</th>\n",
       "      <td>6570382.0</td>\n",
       "      <td>1110925.0</td>\n",
       "    </tr>\n",
       "    <tr>\n",
       "      <th>CAMIONETA</th>\n",
       "      <td>4928482.0</td>\n",
       "      <td>1023067.0</td>\n",
       "    </tr>\n",
       "    <tr>\n",
       "      <th>CAMPERO</th>\n",
       "      <td>1139799.0</td>\n",
       "      <td>208924.0</td>\n",
       "    </tr>\n",
       "    <tr>\n",
       "      <th>MICROBUS</th>\n",
       "      <td>22846709.0</td>\n",
       "      <td>3452960.0</td>\n",
       "    </tr>\n",
       "  </tbody>\n",
       "</table>\n",
       "</div>"
      ],
      "text/plain": [
       "                 PASAJEROS  DESPACHOS\n",
       "CLASE_VEHICULO                       \n",
       "AUTOMOVIL        1395752.0   455596.0\n",
       "BUS             30605282.0  3430374.0\n",
       "BUSETA           6570382.0  1110925.0\n",
       "CAMIONETA        4928482.0  1023067.0\n",
       "CAMPERO          1139799.0   208924.0\n",
       "MICROBUS        22846709.0  3452960.0"
      ]
     },
     "execution_count": 38,
     "metadata": {},
     "output_type": "execute_result"
    }
   ],
   "source": [
    "df1"
   ]
  },
  {
   "cell_type": "code",
   "execution_count": 39,
   "metadata": {},
   "outputs": [
    {
     "data": {
      "text/plain": [
       "5"
      ]
     },
     "execution_count": 39,
     "metadata": {},
     "output_type": "execute_result"
    }
   ],
   "source": [
    "df['CLASE_VEHICULO'].isna().sum()"
   ]
  },
  {
   "cell_type": "code",
   "execution_count": 54,
   "metadata": {},
   "outputs": [
    {
     "data": {
      "image/png": "[encoded data removed]",
      "text/plain": [
       "<Figure size 432x288 with 1 Axes>"
      ]
     },
     "metadata": {},
     "output_type": "display_data"
    }
   ],
   "source": [
    "ax = df1.plot.bar(y='PASAJEROS', title='Passengers per vehicle class')"
   ]
  },
  {
   "cell_type": "code",
   "execution_count": 55,
   "metadata": {},
   "outputs": [
    {
     "data": {
      "image/png": "[encoded data removed]",
      "text/plain": [
       "<Figure size 432x288 with 1 Axes>"
      ]
     },
     "metadata": {},
     "output_type": "display_data"
    }
   ],
   "source": [
    "ax = df1.plot.bar(y='DESPACHOS', title='Departures per vehicle class')"
   ]
  },
  {
   "cell_type": "code",
   "execution_count": 56,
   "metadata": {},
   "outputs": [
    {
     "data": {
      "image/png": "[encoded data removed]",
      "text/plain": [
       "<Figure size 432x288 with 2 Axes>"
      ]
     },
     "metadata": {},
     "output_type": "display_data"
    }
   ],
   "source": [
    "ax2 = plt.axes()\n",
    "sbn.heatmap(df1, annot=True, cmap='Blues', ax = ax2)\n",
    "ax2.set_title('Passengers and Departures per Vehicle Class');"
   ]
  },
  {
   "cell_type": "code",
   "execution_count": 11,
   "metadata": {},
   "outputs": [
    {
     "data": {
      "text/html": [
       "<div>\n",
       "<style scoped>\n",
       "    .dataframe tbody tr th:only-of-type {\n",
       "        vertical-align: middle;\n",
       "    }\n",
       "\n",
       "    .dataframe tbody tr th {\n",
       "        vertical-align: top;\n",
       "    }\n",
       "\n",
       "    .dataframe thead th {\n",
       "        text-align: right;\n",
       "    }\n",
       "</style>\n",
       "<table border=\"1\" class=\"dataframe\">\n",
       "  <thead>\n",
       "    <tr style=\"text-align: right;\">\n",
       "      <th></th>\n",
       "      <th></th>\n",
       "      <th>PASAJEROS</th>\n",
       "      <th>DESPACHOS</th>\n",
       "    </tr>\n",
       "    <tr>\n",
       "      <th>TERMINAL</th>\n",
       "      <th>CLASE_VEHICULO</th>\n",
       "      <th></th>\n",
       "      <th></th>\n",
       "    </tr>\n",
       "  </thead>\n",
       "  <tbody>\n",
       "    <tr>\n",
       "      <th>T.T. DE MEDELLÍN NORTE</th>\n",
       "      <th>BUS</th>\n",
       "      <td>3766915.0</td>\n",
       "      <td>271803.0</td>\n",
       "    </tr>\n",
       "    <tr>\n",
       "      <th>T.T. DE BOGOTÁ SALITRE</th>\n",
       "      <th>BUS</th>\n",
       "      <td>3700740.0</td>\n",
       "      <td>375641.0</td>\n",
       "    </tr>\n",
       "    <tr>\n",
       "      <th rowspan=\"2\" valign=\"top\">T.T. DE CALI</th>\n",
       "      <th>BUS</th>\n",
       "      <td>3456193.0</td>\n",
       "      <td>391459.0</td>\n",
       "    </tr>\n",
       "    <tr>\n",
       "      <th>MICROBUS</th>\n",
       "      <td>2729908.0</td>\n",
       "      <td>390848.0</td>\n",
       "    </tr>\n",
       "    <tr>\n",
       "      <th>T.T. DE ARMENIA</th>\n",
       "      <th>MICROBUS</th>\n",
       "      <td>2621332.0</td>\n",
       "      <td>377320.0</td>\n",
       "    </tr>\n",
       "    <tr>\n",
       "      <th>T.T. DE PEREIRA</th>\n",
       "      <th>MICROBUS</th>\n",
       "      <td>1793283.0</td>\n",
       "      <td>215503.0</td>\n",
       "    </tr>\n",
       "    <tr>\n",
       "      <th>T.T. DE CARTAGENA</th>\n",
       "      <th>BUS</th>\n",
       "      <td>1778079.0</td>\n",
       "      <td>235052.0</td>\n",
       "    </tr>\n",
       "    <tr>\n",
       "      <th>T.T. DE MEDELLÍN NORTE</th>\n",
       "      <th>MICROBUS</th>\n",
       "      <td>1373187.0</td>\n",
       "      <td>137659.0</td>\n",
       "    </tr>\n",
       "    <tr>\n",
       "      <th>T.T. DE DUITAMA</th>\n",
       "      <th>MICROBUS</th>\n",
       "      <td>1252616.0</td>\n",
       "      <td>154974.0</td>\n",
       "    </tr>\n",
       "    <tr>\n",
       "      <th>T.T. DE POPAYÁN</th>\n",
       "      <th>MICROBUS</th>\n",
       "      <td>1160829.0</td>\n",
       "      <td>101838.0</td>\n",
       "    </tr>\n",
       "  </tbody>\n",
       "</table>\n",
       "</div>"
      ],
      "text/plain": [
       "                                       PASAJEROS  DESPACHOS\n",
       "TERMINAL               CLASE_VEHICULO                      \n",
       "T.T. DE MEDELLÍN NORTE BUS             3766915.0   271803.0\n",
       "T.T. DE BOGOTÁ SALITRE BUS             3700740.0   375641.0\n",
       "T.T. DE CALI           BUS             3456193.0   391459.0\n",
       "                       MICROBUS        2729908.0   390848.0\n",
       "T.T. DE ARMENIA        MICROBUS        2621332.0   377320.0\n",
       "T.T. DE PEREIRA        MICROBUS        1793283.0   215503.0\n",
       "T.T. DE CARTAGENA      BUS             1778079.0   235052.0\n",
       "T.T. DE MEDELLÍN NORTE MICROBUS        1373187.0   137659.0\n",
       "T.T. DE DUITAMA        MICROBUS        1252616.0   154974.0\n",
       "T.T. DE POPAYÁN        MICROBUS        1160829.0   101838.0"
      ]
     },
     "execution_count": 11,
     "metadata": {},
     "output_type": "execute_result"
    }
   ],
   "source": [
    "df.groupby(['TERMINAL', 'CLASE_VEHICULO'])['PASAJEROS','DESPACHOS'].sum().sort_values('PASAJEROS', ascending = False).head(10)"
   ]
  },
  {
   "cell_type": "code",
   "execution_count": 12,
   "metadata": {},
   "outputs": [
    {
     "data": {
      "text/html": [
       "<div>\n",
       "<style scoped>\n",
       "    .dataframe tbody tr th:only-of-type {\n",
       "        vertical-align: middle;\n",
       "    }\n",
       "\n",
       "    .dataframe tbody tr th {\n",
       "        vertical-align: top;\n",
       "    }\n",
       "\n",
       "    .dataframe thead th {\n",
       "        text-align: right;\n",
       "    }\n",
       "</style>\n",
       "<table border=\"1\" class=\"dataframe\">\n",
       "  <thead>\n",
       "    <tr style=\"text-align: right;\">\n",
       "      <th></th>\n",
       "      <th>MUNICIPIO_ORIGEN_RUTA</th>\n",
       "      <th>MUNICIPIO_DESTINO_RUTA</th>\n",
       "      <th>HORA_DESPACHO</th>\n",
       "      <th>DESPACHOS</th>\n",
       "      <th>PASAJEROS</th>\n",
       "    </tr>\n",
       "  </thead>\n",
       "  <tbody>\n",
       "    <tr>\n",
       "      <th>count</th>\n",
       "      <td>4.916243e+06</td>\n",
       "      <td>4.916243e+06</td>\n",
       "      <td>4.916243e+06</td>\n",
       "      <td>4.916243e+06</td>\n",
       "      <td>4.916243e+06</td>\n",
       "    </tr>\n",
       "    <tr>\n",
       "      <th>mean</th>\n",
       "      <td>3.610354e+04</td>\n",
       "      <td>3.976296e+04</td>\n",
       "      <td>1.202961e+01</td>\n",
       "      <td>1.969359e+00</td>\n",
       "      <td>1.372723e+01</td>\n",
       "    </tr>\n",
       "    <tr>\n",
       "      <th>std</th>\n",
       "      <td>2.740167e+04</td>\n",
       "      <td>2.708355e+04</td>\n",
       "      <td>5.024672e+00</td>\n",
       "      <td>2.289914e+00</td>\n",
       "      <td>2.173251e+01</td>\n",
       "    </tr>\n",
       "    <tr>\n",
       "      <th>min</th>\n",
       "      <td>5.001000e+03</td>\n",
       "      <td>5.001000e+03</td>\n",
       "      <td>0.000000e+00</td>\n",
       "      <td>1.000000e+00</td>\n",
       "      <td>0.000000e+00</td>\n",
       "    </tr>\n",
       "    <tr>\n",
       "      <th>25%</th>\n",
       "      <td>1.100100e+04</td>\n",
       "      <td>1.550700e+04</td>\n",
       "      <td>8.000000e+00</td>\n",
       "      <td>1.000000e+00</td>\n",
       "      <td>3.000000e+00</td>\n",
       "    </tr>\n",
       "    <tr>\n",
       "      <th>50%</th>\n",
       "      <td>2.300100e+04</td>\n",
       "      <td>4.100100e+04</td>\n",
       "      <td>1.200000e+01</td>\n",
       "      <td>1.000000e+00</td>\n",
       "      <td>8.000000e+00</td>\n",
       "    </tr>\n",
       "    <tr>\n",
       "      <th>75%</th>\n",
       "      <td>6.600100e+04</td>\n",
       "      <td>6.807700e+04</td>\n",
       "      <td>1.600000e+01</td>\n",
       "      <td>2.000000e+00</td>\n",
       "      <td>1.600000e+01</td>\n",
       "    </tr>\n",
       "    <tr>\n",
       "      <th>max</th>\n",
       "      <td>9.977300e+04</td>\n",
       "      <td>9.977300e+04</td>\n",
       "      <td>2.300000e+01</td>\n",
       "      <td>1.250000e+02</td>\n",
       "      <td>2.200000e+03</td>\n",
       "    </tr>\n",
       "  </tbody>\n",
       "</table>\n",
       "</div>"
      ],
      "text/plain": [
       "       MUNICIPIO_ORIGEN_RUTA  MUNICIPIO_DESTINO_RUTA  HORA_DESPACHO  \\\n",
       "count           4.916243e+06            4.916243e+06   4.916243e+06   \n",
       "mean            3.610354e+04            3.976296e+04   1.202961e+01   \n",
       "std             2.740167e+04            2.708355e+04   5.024672e+00   \n",
       "min             5.001000e+03            5.001000e+03   0.000000e+00   \n",
       "25%             1.100100e+04            1.550700e+04   8.000000e+00   \n",
       "50%             2.300100e+04            4.100100e+04   1.200000e+01   \n",
       "75%             6.600100e+04            6.807700e+04   1.600000e+01   \n",
       "max             9.977300e+04            9.977300e+04   2.300000e+01   \n",
       "\n",
       "          DESPACHOS     PASAJEROS  \n",
       "count  4.916243e+06  4.916243e+06  \n",
       "mean   1.969359e+00  1.372723e+01  \n",
       "std    2.289914e+00  2.173251e+01  \n",
       "min    1.000000e+00  0.000000e+00  \n",
       "25%    1.000000e+00  3.000000e+00  \n",
       "50%    1.000000e+00  8.000000e+00  \n",
       "75%    2.000000e+00  1.600000e+01  \n",
       "max    1.250000e+02  2.200000e+03  "
      ]
     },
     "execution_count": 12,
     "metadata": {},
     "output_type": "execute_result"
    }
   ],
   "source": [
    "df.describe()"
   ]
  },
  {
   "cell_type": "code",
   "execution_count": 6,
   "metadata": {},
   "outputs": [
    {
     "data": {
      "text/plain": [
       "0   2021-03-01\n",
       "1   2021-03-12\n",
       "2   2021-01-09\n",
       "3   2021-02-28\n",
       "4   2021-01-28\n",
       "Name: FECHA_DATE, dtype: datetime64[ns]"
      ]
     },
     "execution_count": 6,
     "metadata": {},
     "output_type": "execute_result"
    }
   ],
   "source": [
    "df['FECHA_DATE'] = pd.to_datetime(df['FECHA_DESPACHO'])\n",
    "df['FECHA_DATE'].head()"
   ]
  },
  {
   "cell_type": "code",
   "execution_count": 7,
   "metadata": {},
   "outputs": [
    {
     "data": {
      "text/plain": [
       "0    3.0\n",
       "1    3.0\n",
       "2    1.0\n",
       "3    2.0\n",
       "4    1.0\n",
       "Name: MONTH, dtype: float64"
      ]
     },
     "execution_count": 7,
     "metadata": {},
     "output_type": "execute_result"
    }
   ],
   "source": [
    "df['MONTH'] = df['FECHA_DATE'].dt.month\n",
    "df['DAY'] = df['FECHA_DATE'].dt.day\n",
    "df['MONTH'].head()"
   ]
  },
  {
   "cell_type": "code",
   "execution_count": 26,
   "metadata": {},
   "outputs": [
    {
     "data": {
      "text/html": [
       "<div>\n",
       "<style scoped>\n",
       "    .dataframe tbody tr th:only-of-type {\n",
       "        vertical-align: middle;\n",
       "    }\n",
       "\n",
       "    .dataframe tbody tr th {\n",
       "        vertical-align: top;\n",
       "    }\n",
       "\n",
       "    .dataframe thead th {\n",
       "        text-align: right;\n",
       "    }\n",
       "</style>\n",
       "<table border=\"1\" class=\"dataframe\">\n",
       "  <thead>\n",
       "    <tr style=\"text-align: right;\">\n",
       "      <th></th>\n",
       "      <th></th>\n",
       "      <th>PASAJEROS</th>\n",
       "      <th>DESPACHOS</th>\n",
       "    </tr>\n",
       "    <tr>\n",
       "      <th>CLASE_VEHICULO</th>\n",
       "      <th>MONTH</th>\n",
       "      <th></th>\n",
       "      <th></th>\n",
       "    </tr>\n",
       "  </thead>\n",
       "  <tbody>\n",
       "    <tr>\n",
       "      <th rowspan=\"5\" valign=\"top\">AUTOMOVIL</th>\n",
       "      <th>1.0</th>\n",
       "      <td>177951.0</td>\n",
       "      <td>61479.0</td>\n",
       "    </tr>\n",
       "    <tr>\n",
       "      <th>2.0</th>\n",
       "      <td>166996.0</td>\n",
       "      <td>58312.0</td>\n",
       "    </tr>\n",
       "    <tr>\n",
       "      <th>3.0</th>\n",
       "      <td>131687.0</td>\n",
       "      <td>46871.0</td>\n",
       "    </tr>\n",
       "    <tr>\n",
       "      <th>4.0</th>\n",
       "      <td>28578.0</td>\n",
       "      <td>11273.0</td>\n",
       "    </tr>\n",
       "    <tr>\n",
       "      <th>5.0</th>\n",
       "      <td>1541.0</td>\n",
       "      <td>877.0</td>\n",
       "    </tr>\n",
       "    <tr>\n",
       "      <th>...</th>\n",
       "      <th>...</th>\n",
       "      <td>...</td>\n",
       "      <td>...</td>\n",
       "    </tr>\n",
       "    <tr>\n",
       "      <th rowspan=\"5\" valign=\"top\">MICROBUS</th>\n",
       "      <th>8.0</th>\n",
       "      <td>2130259.0</td>\n",
       "      <td>284148.0</td>\n",
       "    </tr>\n",
       "    <tr>\n",
       "      <th>9.0</th>\n",
       "      <td>2382102.0</td>\n",
       "      <td>337081.0</td>\n",
       "    </tr>\n",
       "    <tr>\n",
       "      <th>10.0</th>\n",
       "      <td>2736551.0</td>\n",
       "      <td>396103.0</td>\n",
       "    </tr>\n",
       "    <tr>\n",
       "      <th>11.0</th>\n",
       "      <td>2544514.0</td>\n",
       "      <td>381416.0</td>\n",
       "    </tr>\n",
       "    <tr>\n",
       "      <th>12.0</th>\n",
       "      <td>3204082.0</td>\n",
       "      <td>434468.0</td>\n",
       "    </tr>\n",
       "  </tbody>\n",
       "</table>\n",
       "<p>72 rows × 2 columns</p>\n",
       "</div>"
      ],
      "text/plain": [
       "                      PASAJEROS  DESPACHOS\n",
       "CLASE_VEHICULO MONTH                      \n",
       "AUTOMOVIL      1.0     177951.0    61479.0\n",
       "               2.0     166996.0    58312.0\n",
       "               3.0     131687.0    46871.0\n",
       "               4.0      28578.0    11273.0\n",
       "               5.0       1541.0      877.0\n",
       "...                         ...        ...\n",
       "MICROBUS       8.0    2130259.0   284148.0\n",
       "               9.0    2382102.0   337081.0\n",
       "               10.0   2736551.0   396103.0\n",
       "               11.0   2544514.0   381416.0\n",
       "               12.0   3204082.0   434468.0\n",
       "\n",
       "[72 rows x 2 columns]"
      ]
     },
     "execution_count": 26,
     "metadata": {},
     "output_type": "execute_result"
    }
   ],
   "source": [
    "df2 = df.groupby(['CLASE_VEHICULO','MONTH'])['PASAJEROS','DESPACHOS'].sum()\n",
    "df2"
   ]
  },
  {
   "cell_type": "code",
   "execution_count": 57,
   "metadata": {},
   "outputs": [
    {
     "data": {
      "text/plain": [
       "<matplotlib.axes._subplots.AxesSubplot at 0x14c03ddb3c8>"
      ]
     },
     "execution_count": 57,
     "metadata": {},
     "output_type": "execute_result"
    },
    {
     "data": {
      "text/plain": [
       "<Figure size 14400x14400 with 0 Axes>"
      ]
     },
     "metadata": {},
     "output_type": "display_data"
    },
    {
     "data": {
      "image/png": "[encoded data removed]",
      "text/plain": [
       "<Figure size 432x288 with 1 Axes>"
      ]
     },
     "metadata": {},
     "output_type": "display_data"
    }
   ],
   "source": [
    "plt.figure(figsize=(200,200))\n",
    "df2.loc['BUS'].plot(kind='bar', title='Passengers and Departures per month on Bus')"
   ]
  },
  {
   "cell_type": "code",
   "execution_count": 59,
   "metadata": {},
   "outputs": [
    {
     "data": {
      "text/plain": [
       "<matplotlib.axes._subplots.AxesSubplot at 0x14c03d165c0>"
      ]
     },
     "execution_count": 59,
     "metadata": {},
     "output_type": "execute_result"
    },
    {
     "data": {
      "text/plain": [
       "<Figure size 14400x14400 with 0 Axes>"
      ]
     },
     "metadata": {},
     "output_type": "display_data"
    },
    {
     "data": {
      "image/png": "[encoded data removed]",
      "text/plain": [
       "<Figure size 432x288 with 1 Axes>"
      ]
     },
     "metadata": {},
     "output_type": "display_data"
    }
   ],
   "source": [
    "plt.figure(figsize=(200,200))\n",
    "df2.loc['MICROBUS'].plot(kind='bar', title='Passengers and Departures per month on Microbus')"
   ]
  },
  {
   "cell_type": "code",
   "execution_count": 60,
   "metadata": {},
   "outputs": [
    {
     "data": {
      "text/plain": [
       "<matplotlib.axes._subplots.AxesSubplot at 0x14c01d445f8>"
      ]
     },
     "execution_count": 60,
     "metadata": {},
     "output_type": "execute_result"
    },
    {
     "data": {
      "text/plain": [
       "<Figure size 14400x14400 with 0 Axes>"
      ]
     },
     "metadata": {},
     "output_type": "display_data"
    },
    {
     "data": {
      "image/png": "[encoded data removed]",
      "text/plain": [
       "<Figure size 432x288 with 1 Axes>"
      ]
     },
     "metadata": {},
     "output_type": "display_data"
    }
   ],
   "source": [
    "plt.figure(figsize=(200,200))\n",
    "df2.loc['BUSETA'].plot(kind='bar', title='Passengers and Departures per month on Buseta')"
   ]
  },
  {
   "cell_type": "code",
   "execution_count": 61,
   "metadata": {},
   "outputs": [
    {
     "data": {
      "text/plain": [
       "<matplotlib.axes._subplots.AxesSubplot at 0x14c0405a828>"
      ]
     },
     "execution_count": 61,
     "metadata": {},
     "output_type": "execute_result"
    },
    {
     "data": {
      "text/plain": [
       "<Figure size 14400x14400 with 0 Axes>"
      ]
     },
     "metadata": {},
     "output_type": "display_data"
    },
    {
     "data": {
      "image/png": "[encoded data removed]",
      "text/plain": [
       "<Figure size 432x288 with 1 Axes>"
      ]
     },
     "metadata": {},
     "output_type": "display_data"
    }
   ],
   "source": [
    "plt.figure(figsize=(200,200))\n",
    "df2.loc['CAMIONETA'].plot(kind='bar', title='Passengers and Departures per month on Camioneta')"
   ]
  },
  {
   "cell_type": "code",
   "execution_count": 62,
   "metadata": {},
   "outputs": [
    {
     "data": {
      "text/plain": [
       "<matplotlib.axes._subplots.AxesSubplot at 0x14c040be400>"
      ]
     },
     "execution_count": 62,
     "metadata": {},
     "output_type": "execute_result"
    },
    {
     "data": {
      "text/plain": [
       "<Figure size 14400x14400 with 0 Axes>"
      ]
     },
     "metadata": {},
     "output_type": "display_data"
    },
    {
     "data": {
      "image/png": "[encoded data removed]",
      "text/plain": [
       "<Figure size 432x288 with 1 Axes>"
      ]
     },
     "metadata": {},
     "output_type": "display_data"
    }
   ],
   "source": [
    "plt.figure(figsize=(200,200))\n",
    "df2.loc['CAMPERO'].plot(kind='bar', title='Passengers and Departures per month on Campero')"
   ]
  },
  {
   "cell_type": "code",
   "execution_count": 63,
   "metadata": {},
   "outputs": [
    {
     "data": {
      "text/plain": [
       "<matplotlib.axes._subplots.AxesSubplot at 0x14c041a9ac8>"
      ]
     },
     "execution_count": 63,
     "metadata": {},
     "output_type": "execute_result"
    },
    {
     "data": {
      "text/plain": [
       "<Figure size 14400x14400 with 0 Axes>"
      ]
     },
     "metadata": {},
     "output_type": "display_data"
    },
    {
     "data": {
      "image/png": "[encoded data removed]",
      "text/plain": [
       "<Figure size 432x288 with 1 Axes>"
      ]
     },
     "metadata": {},
     "output_type": "display_data"
    }
   ],
   "source": [
    "plt.figure(figsize=(200,200))\n",
    "df2.loc['AUTOMOVIL'].plot(kind='bar', title='Passengers and Departures per month on Automovil')"
   ]
  }
 ],
 "metadata": {
  "kernelspec": {
   "display_name": "Python 3",
   "language": "python",
   "name": "python3"
  },
  "language_info": {
   "codemirror_mode": {
    "name": "ipython",
    "version": 3
   },
   "file_extension": ".py",
   "mimetype": "text/x-python",
   "name": "python",
   "nbconvert_exporter": "python",
   "pygments_lexer": "ipython3",
   "version": "3.6.5"
  }
 },
 "nbformat": 4,
 "nbformat_minor": 2
}
