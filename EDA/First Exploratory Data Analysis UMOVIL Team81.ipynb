{
 "cells": [
  {
   "cell_type": "code",
   "execution_count": 1,
   "id": "c4b8f3b9",
   "metadata": {},
   "outputs": [],
   "source": [
    "#importar librerias\n",
    "import pandas as pd\n",
    "import matplotlib.pyplot as plt"
   ]
  },
  {
   "cell_type": "code",
   "execution_count": 6,
   "id": "8a171951",
   "metadata": {
    "scrolled": true
   },
   "outputs": [],
   "source": [
    "#Leer dataframe\n",
    "#Nota: Como el dataframe que el cliente pretende que utilizamos está en datos abiertos\n",
    "#utilizamos la versión del 06072021\n",
    "#https://www.datos.gov.co/Transporte/Operaci-n-de-pasajeros-y-despacho-de-veh-culos-en-/eh75-8ah6\n",
    "df1 = pd.read_csv(\"data/Operacion_Pasajeros_despacho_vehiculos_carretera_Dataframe_06072021.csv\")"
   ]
  },
  {
   "cell_type": "code",
   "execution_count": 7,
   "id": "74466d51",
   "metadata": {},
   "outputs": [
    {
     "data": {
      "text/plain": [
       "TERMINAL                  False\n",
       "CLASE_VEHICULO            False\n",
       "NIVEL_SERVICIO            False\n",
       "MUNICIPIO_ORIGEN_RUTA     False\n",
       "MUNICIPIO_DESTINO_RUTA    False\n",
       "FECHA_DESPACHO            False\n",
       "HORA_DESPACHO             False\n",
       "TIPO_DESPACHO             False\n",
       "DESPACHOS                 False\n",
       "PASAJEROS                 False\n",
       "dtype: bool"
      ]
     },
     "execution_count": 7,
     "metadata": {},
     "output_type": "execute_result"
    }
   ],
   "source": [
    "#Revisar si hay datos faltantes NaN en el dataframe\n",
    "df1.isnull().any()"
   ]
  },
  {
   "cell_type": "code",
   "execution_count": 8,
   "id": "187296f2",
   "metadata": {},
   "outputs": [
    {
     "data": {
      "text/html": [
       "<div>\n",
       "<style scoped>\n",
       "    .dataframe tbody tr th:only-of-type {\n",
       "        vertical-align: middle;\n",
       "    }\n",
       "\n",
       "    .dataframe tbody tr th {\n",
       "        vertical-align: top;\n",
       "    }\n",
       "\n",
       "    .dataframe thead th {\n",
       "        text-align: right;\n",
       "    }\n",
       "</style>\n",
       "<table border=\"1\" class=\"dataframe\">\n",
       "  <thead>\n",
       "    <tr style=\"text-align: right;\">\n",
       "      <th></th>\n",
       "      <th>TERMINAL</th>\n",
       "      <th>CLASE_VEHICULO</th>\n",
       "      <th>NIVEL_SERVICIO</th>\n",
       "      <th>MUNICIPIO_ORIGEN_RUTA</th>\n",
       "      <th>MUNICIPIO_DESTINO_RUTA</th>\n",
       "      <th>FECHA_DESPACHO</th>\n",
       "      <th>HORA_DESPACHO</th>\n",
       "      <th>TIPO_DESPACHO</th>\n",
       "      <th>DESPACHOS</th>\n",
       "      <th>PASAJEROS</th>\n",
       "    </tr>\n",
       "  </thead>\n",
       "  <tbody>\n",
       "    <tr>\n",
       "      <th>0</th>\n",
       "      <td>T.T. DE BOGOTÁ NORTE</td>\n",
       "      <td>MICROBUS</td>\n",
       "      <td>LUJO</td>\n",
       "      <td>11001</td>\n",
       "      <td>15759</td>\n",
       "      <td>03/01/2021 12:00:00 AM</td>\n",
       "      <td>8</td>\n",
       "      <td>TRANSITO</td>\n",
       "      <td>2</td>\n",
       "      <td>0</td>\n",
       "    </tr>\n",
       "    <tr>\n",
       "      <th>1</th>\n",
       "      <td>T.T. DE BOGOTÁ SALITRE</td>\n",
       "      <td>BUS</td>\n",
       "      <td>LUJO</td>\n",
       "      <td>11001</td>\n",
       "      <td>76001</td>\n",
       "      <td>03/12/2021 12:00:00 AM</td>\n",
       "      <td>11</td>\n",
       "      <td>ORIGEN</td>\n",
       "      <td>4</td>\n",
       "      <td>45</td>\n",
       "    </tr>\n",
       "    <tr>\n",
       "      <th>2</th>\n",
       "      <td>T.T. DE CALI</td>\n",
       "      <td>BUSETA</td>\n",
       "      <td>BASICO</td>\n",
       "      <td>76001</td>\n",
       "      <td>52378</td>\n",
       "      <td>01/09/2021 12:00:00 AM</td>\n",
       "      <td>6</td>\n",
       "      <td>ORIGEN</td>\n",
       "      <td>1</td>\n",
       "      <td>3</td>\n",
       "    </tr>\n",
       "    <tr>\n",
       "      <th>3</th>\n",
       "      <td>T.T. DE MELGAR</td>\n",
       "      <td>MICROBUS</td>\n",
       "      <td>BASICO</td>\n",
       "      <td>73449</td>\n",
       "      <td>25488</td>\n",
       "      <td>02/28/2021 12:00:00 AM</td>\n",
       "      <td>12</td>\n",
       "      <td>ORIGEN</td>\n",
       "      <td>1</td>\n",
       "      <td>1</td>\n",
       "    </tr>\n",
       "    <tr>\n",
       "      <th>4</th>\n",
       "      <td>T.T. DE MANIZALES</td>\n",
       "      <td>MICROBUS</td>\n",
       "      <td>LUJO</td>\n",
       "      <td>17001</td>\n",
       "      <td>17174</td>\n",
       "      <td>01/28/2021 12:00:00 AM</td>\n",
       "      <td>20</td>\n",
       "      <td>ORIGEN</td>\n",
       "      <td>1</td>\n",
       "      <td>13</td>\n",
       "    </tr>\n",
       "  </tbody>\n",
       "</table>\n",
       "</div>"
      ],
      "text/plain": [
       "                 TERMINAL CLASE_VEHICULO NIVEL_SERVICIO  \\\n",
       "0    T.T. DE BOGOTÁ NORTE       MICROBUS           LUJO   \n",
       "1  T.T. DE BOGOTÁ SALITRE            BUS           LUJO   \n",
       "2            T.T. DE CALI         BUSETA         BASICO   \n",
       "3          T.T. DE MELGAR       MICROBUS         BASICO   \n",
       "4       T.T. DE MANIZALES       MICROBUS           LUJO   \n",
       "\n",
       "   MUNICIPIO_ORIGEN_RUTA  MUNICIPIO_DESTINO_RUTA          FECHA_DESPACHO  \\\n",
       "0                  11001                   15759  03/01/2021 12:00:00 AM   \n",
       "1                  11001                   76001  03/12/2021 12:00:00 AM   \n",
       "2                  76001                   52378  01/09/2021 12:00:00 AM   \n",
       "3                  73449                   25488  02/28/2021 12:00:00 AM   \n",
       "4                  17001                   17174  01/28/2021 12:00:00 AM   \n",
       "\n",
       "   HORA_DESPACHO TIPO_DESPACHO  DESPACHOS  PASAJEROS  \n",
       "0              8      TRANSITO          2          0  \n",
       "1             11        ORIGEN          4         45  \n",
       "2              6        ORIGEN          1          3  \n",
       "3             12        ORIGEN          1          1  \n",
       "4             20        ORIGEN          1         13  "
      ]
     },
     "execution_count": 8,
     "metadata": {},
     "output_type": "execute_result"
    }
   ],
   "source": [
    "#Explorar el contenido del dataframe\n",
    "df1.head(5)"
   ]
  },
  {
   "cell_type": "code",
   "execution_count": 9,
   "id": "4f29ab91",
   "metadata": {},
   "outputs": [
    {
     "data": {
      "text/html": [
       "<div>\n",
       "<style scoped>\n",
       "    .dataframe tbody tr th:only-of-type {\n",
       "        vertical-align: middle;\n",
       "    }\n",
       "\n",
       "    .dataframe tbody tr th {\n",
       "        vertical-align: top;\n",
       "    }\n",
       "\n",
       "    .dataframe thead th {\n",
       "        text-align: right;\n",
       "    }\n",
       "</style>\n",
       "<table border=\"1\" class=\"dataframe\">\n",
       "  <thead>\n",
       "    <tr style=\"text-align: right;\">\n",
       "      <th></th>\n",
       "      <th>TERMINAL</th>\n",
       "      <th>CLASE_VEHICULO</th>\n",
       "      <th>NIVEL_SERVICIO</th>\n",
       "      <th>FECHA_DESPACHO</th>\n",
       "      <th>TIPO_DESPACHO</th>\n",
       "    </tr>\n",
       "  </thead>\n",
       "  <tbody>\n",
       "    <tr>\n",
       "      <th>count</th>\n",
       "      <td>9014601</td>\n",
       "      <td>9014601</td>\n",
       "      <td>9014601</td>\n",
       "      <td>9014601</td>\n",
       "      <td>9014601</td>\n",
       "    </tr>\n",
       "    <tr>\n",
       "      <th>unique</th>\n",
       "      <td>49</td>\n",
       "      <td>6</td>\n",
       "      <td>3</td>\n",
       "      <td>707</td>\n",
       "      <td>2</td>\n",
       "    </tr>\n",
       "    <tr>\n",
       "      <th>top</th>\n",
       "      <td>T.T. DE BOGOTÁ SALITRE</td>\n",
       "      <td>BUS</td>\n",
       "      <td>LUJO</td>\n",
       "      <td>12/30/2019 12:00:00 AM</td>\n",
       "      <td>ORIGEN</td>\n",
       "    </tr>\n",
       "    <tr>\n",
       "      <th>freq</th>\n",
       "      <td>822165</td>\n",
       "      <td>3487341</td>\n",
       "      <td>6346499</td>\n",
       "      <td>22435</td>\n",
       "      <td>6774036</td>\n",
       "    </tr>\n",
       "  </tbody>\n",
       "</table>\n",
       "</div>"
      ],
      "text/plain": [
       "                      TERMINAL CLASE_VEHICULO NIVEL_SERVICIO  \\\n",
       "count                  9014601        9014601        9014601   \n",
       "unique                      49              6              3   \n",
       "top     T.T. DE BOGOTÁ SALITRE            BUS           LUJO   \n",
       "freq                    822165        3487341        6346499   \n",
       "\n",
       "                FECHA_DESPACHO TIPO_DESPACHO  \n",
       "count                  9014601       9014601  \n",
       "unique                     707             2  \n",
       "top     12/30/2019 12:00:00 AM        ORIGEN  \n",
       "freq                     22435       6774036  "
      ]
     },
     "execution_count": 9,
     "metadata": {},
     "output_type": "execute_result"
    }
   ],
   "source": [
    "#Conocer los descriptores del dataframe\n",
    "df1.describe(include=['object'])"
   ]
  },
  {
   "cell_type": "code",
   "execution_count": 10,
   "id": "4ecad025",
   "metadata": {
    "scrolled": true
   },
   "outputs": [
    {
     "data": {
      "text/plain": [
       "TERMINAL                  object\n",
       "CLASE_VEHICULO            object\n",
       "NIVEL_SERVICIO            object\n",
       "MUNICIPIO_ORIGEN_RUTA      int64\n",
       "MUNICIPIO_DESTINO_RUTA     int64\n",
       "FECHA_DESPACHO            object\n",
       "HORA_DESPACHO              int64\n",
       "TIPO_DESPACHO             object\n",
       "DESPACHOS                  int64\n",
       "PASAJEROS                  int64\n",
       "dtype: object"
      ]
     },
     "execution_count": 10,
     "metadata": {},
     "output_type": "execute_result"
    }
   ],
   "source": [
    "#Revisar tipos de datos\n",
    "df1.dtypes"
   ]
  },
  {
   "cell_type": "code",
   "execution_count": 11,
   "id": "0eb50108",
   "metadata": {},
   "outputs": [],
   "source": [
    "#Como la columna fecha de despacho tiene una hora que siempre esta en 12:00:00AM se elimina\n",
    "df1[\"FECHA_DESPACHO\"]=df1[\"FECHA_DESPACHO\"].apply(lambda x:x[:10])"
   ]
  },
  {
   "cell_type": "code",
   "execution_count": 12,
   "id": "049c8314",
   "metadata": {},
   "outputs": [],
   "source": [
    "#Colocar fecha en formato mes y año \n",
    "df1[\"FECHA_DESPACHO\"]=pd.to_datetime(df1[\"FECHA_DESPACHO\"])"
   ]
  },
  {
   "cell_type": "code",
   "execution_count": 13,
   "id": "6ab97d08",
   "metadata": {},
   "outputs": [
    {
     "data": {
      "text/plain": [
       "Timestamp('2019-08-01 00:00:00')"
      ]
     },
     "execution_count": 13,
     "metadata": {},
     "output_type": "execute_result"
    }
   ],
   "source": [
    "#Revisar si hay datos erroneos en la fecha\n",
    "df1[\"FECHA_DESPACHO\"].min()"
   ]
  },
  {
   "cell_type": "code",
   "execution_count": 14,
   "id": "a2e9b02c",
   "metadata": {},
   "outputs": [
    {
     "data": {
      "text/plain": [
       "Timestamp('2052-12-28 00:00:00')"
      ]
     },
     "execution_count": 14,
     "metadata": {},
     "output_type": "execute_result"
    }
   ],
   "source": [
    "#Revisar si hay datos erroneos en la fecha\n",
    "df1[\"FECHA_DESPACHO\"].max()"
   ]
  },
  {
   "cell_type": "code",
   "execution_count": 16,
   "id": "305863a5",
   "metadata": {},
   "outputs": [
    {
     "data": {
      "text/html": [
       "<div>\n",
       "<style scoped>\n",
       "    .dataframe tbody tr th:only-of-type {\n",
       "        vertical-align: middle;\n",
       "    }\n",
       "\n",
       "    .dataframe tbody tr th {\n",
       "        vertical-align: top;\n",
       "    }\n",
       "\n",
       "    .dataframe thead th {\n",
       "        text-align: right;\n",
       "    }\n",
       "</style>\n",
       "<table border=\"1\" class=\"dataframe\">\n",
       "  <thead>\n",
       "    <tr style=\"text-align: right;\">\n",
       "      <th></th>\n",
       "      <th>TERMINAL</th>\n",
       "      <th>CLASE_VEHICULO</th>\n",
       "      <th>NIVEL_SERVICIO</th>\n",
       "      <th>MUNICIPIO_ORIGEN_RUTA</th>\n",
       "      <th>MUNICIPIO_DESTINO_RUTA</th>\n",
       "      <th>FECHA_DESPACHO</th>\n",
       "      <th>HORA_DESPACHO</th>\n",
       "      <th>TIPO_DESPACHO</th>\n",
       "      <th>DESPACHOS</th>\n",
       "      <th>PASAJEROS</th>\n",
       "    </tr>\n",
       "  </thead>\n",
       "  <tbody>\n",
       "    <tr>\n",
       "      <th>377120</th>\n",
       "      <td>T.T. DE BUENAVENTURA</td>\n",
       "      <td>MICROBUS</td>\n",
       "      <td>LUJO</td>\n",
       "      <td>76109</td>\n",
       "      <td>76001</td>\n",
       "      <td>2052-12-28</td>\n",
       "      <td>19</td>\n",
       "      <td>ORIGEN</td>\n",
       "      <td>1</td>\n",
       "      <td>5</td>\n",
       "    </tr>\n",
       "  </tbody>\n",
       "</table>\n",
       "</div>"
      ],
      "text/plain": [
       "                    TERMINAL CLASE_VEHICULO NIVEL_SERVICIO  \\\n",
       "377120  T.T. DE BUENAVENTURA       MICROBUS           LUJO   \n",
       "\n",
       "        MUNICIPIO_ORIGEN_RUTA  MUNICIPIO_DESTINO_RUTA FECHA_DESPACHO  \\\n",
       "377120                  76109                   76001     2052-12-28   \n",
       "\n",
       "        HORA_DESPACHO TIPO_DESPACHO  DESPACHOS  PASAJEROS  \n",
       "377120             19        ORIGEN          1          5  "
      ]
     },
     "execution_count": 16,
     "metadata": {},
     "output_type": "execute_result"
    }
   ],
   "source": [
    "#Se observa que existen datos erroneos que están en el futuro y no corresponden a datos históricos que son los que tenemos\n",
    "#Colocamos una marca de tiempo para conocer que datos están en el futuro\n",
    "date=pd.Timestamp('2021-07-06 00:00:00')\n",
    "df1[df1[\"FECHA_DESPACHO\"]>date]"
   ]
  },
  {
   "cell_type": "code",
   "execution_count": 17,
   "id": "c672645b",
   "metadata": {},
   "outputs": [],
   "source": [
    "#Se observa que es solo un dato el que está erróneo. Como no es posible conocer con certeza cual es el error,\n",
    "#Además se cuenta con una base de datos de aproximadamente 8 millones de datos, procedemos a eliminarlo\n",
    "#Sin que esto impacte en el resultado final\n",
    "indexborrar=df1[df1[\"FECHA_DESPACHO\"]>date].index\n",
    "df1.drop(index=indexborrar,inplace=True)"
   ]
  },
  {
   "cell_type": "code",
   "execution_count": 21,
   "id": "462ea30a",
   "metadata": {},
   "outputs": [
    {
     "data": {
      "text/plain": [
       "(1, 140)"
      ]
     },
     "execution_count": 21,
     "metadata": {},
     "output_type": "execute_result"
    }
   ],
   "source": [
    "#Revisar si hay datos erroneos en número de despacho\n",
    "(df1[\"DESPACHOS\"].min(),df1[\"DESPACHOS\"].max())"
   ]
  },
  {
   "cell_type": "code",
   "execution_count": 22,
   "id": "13129485",
   "metadata": {},
   "outputs": [
    {
     "data": {
      "text/plain": [
       "(0, 2200)"
      ]
     },
     "execution_count": 22,
     "metadata": {},
     "output_type": "execute_result"
    }
   ],
   "source": [
    "#Revisar si hay datos erroneos en número de despacho\n",
    "(df1[\"PASAJEROS\"].min(),df1[\"PASAJEROS\"].max())\n"
   ]
  },
  {
   "cell_type": "code",
   "execution_count": 27,
   "id": "6cb73917",
   "metadata": {
    "scrolled": true
   },
   "outputs": [
    {
     "data": {
      "text/plain": [
       "<AxesSubplot:title={'center':'Pasajeros'}, ylabel='Frequency'>"
      ]
     },
     "execution_count": 27,
     "metadata": {},
     "output_type": "execute_result"
    },
    {
     "data": {
      "image/png": "[encoded data removed]",
      "text/plain": [
       "<Figure size 432x288 with 1 Axes>"
      ]
     },
     "metadata": {
      "needs_background": "light"
     },
     "output_type": "display_data"
    }
   ],
   "source": [
    "df1[\"DESPACHOS\"].plot.hist(title=\"Despachos\", bins=100)"
   ]
  },
  {
   "cell_type": "code",
   "execution_count": 28,
   "id": "4a550417",
   "metadata": {},
   "outputs": [
    {
     "data": {
      "text/plain": [
       "<AxesSubplot:title={'center':'Pasajeros'}, ylabel='Frequency'>"
      ]
     },
     "execution_count": 28,
     "metadata": {},
     "output_type": "execute_result"
    },
    {
     "data": {
      "image/png": "[encoded data removed]",
      "text/plain": [
       "<Figure size 432x288 with 1 Axes>"
      ]
     },
     "metadata": {
      "needs_background": "light"
     },
     "output_type": "display_data"
    }
   ],
   "source": [
    "df1[\"PASAJEROS\"].plot.hist(title=\"Pasajeros\", bins=100)"
   ]
  },
  {
   "cell_type": "code",
   "execution_count": 30,
   "id": "fc92b0a4",
   "metadata": {},
   "outputs": [
    {
     "data": {
      "text/plain": [
       "[<matplotlib.lines.Line2D at 0x7f177eea2490>]"
      ]
     },
     "execution_count": 30,
     "metadata": {},
     "output_type": "execute_result"
    },
    {
     "data": {
      "image/png": "[encoded data removed]",
      "text/plain": [
       "<Figure size 2160x720 with 1 Axes>"
      ]
     },
     "metadata": {
      "needs_background": "light"
     },
     "output_type": "display_data"
    }
   ],
   "source": [
    "#EXPLORACIÓN DE NÚMERO DE PASAJEROS DURANTE LOS MESES ESTUDIADOS\n",
    "df1['MES_DESPACHO'] = df1['FECHA_DESPACHO'].apply(lambda x: x.strftime('%m/%Y'))\n",
    "df1_mes = df1.groupby('MES_DESPACHO')['PASAJEROS'].sum().reset_index()\n",
    "df1_mes['MES_DESPACHO'] = pd.to_datetime(df1_mes['MES_DESPACHO'],format = '%m/%Y')\n",
    "df1_mes.sort_values(by= 'MES_DESPACHO',inplace=True)\n",
    "\n",
    "plt.figure(figsize=(30,10))\n",
    "plt.plot('MES_DESPACHO','PASAJEROS',data = df1_mes,linestyle='-', marker='o')"
   ]
  },
  {
   "cell_type": "code",
   "execution_count": 31,
   "id": "fa6f0f6c",
   "metadata": {},
   "outputs": [
    {
     "data": {
      "text/html": [
       "<div>\n",
       "<style scoped>\n",
       "    .dataframe tbody tr th:only-of-type {\n",
       "        vertical-align: middle;\n",
       "    }\n",
       "\n",
       "    .dataframe tbody tr th {\n",
       "        vertical-align: top;\n",
       "    }\n",
       "\n",
       "    .dataframe thead th {\n",
       "        text-align: right;\n",
       "    }\n",
       "</style>\n",
       "<table border=\"1\" class=\"dataframe\">\n",
       "  <thead>\n",
       "    <tr style=\"text-align: right;\">\n",
       "      <th></th>\n",
       "      <th>DESPACHOS</th>\n",
       "      <th>PASAJEROS</th>\n",
       "    </tr>\n",
       "  </thead>\n",
       "  <tbody>\n",
       "    <tr>\n",
       "      <th>DESPACHOS</th>\n",
       "      <td>1.000000</td>\n",
       "      <td>0.587729</td>\n",
       "    </tr>\n",
       "    <tr>\n",
       "      <th>PASAJEROS</th>\n",
       "      <td>0.587729</td>\n",
       "      <td>1.000000</td>\n",
       "    </tr>\n",
       "  </tbody>\n",
       "</table>\n",
       "</div>"
      ],
      "text/plain": [
       "           DESPACHOS  PASAJEROS\n",
       "DESPACHOS   1.000000   0.587729\n",
       "PASAJEROS   0.587729   1.000000"
      ]
     },
     "execution_count": 31,
     "metadata": {},
     "output_type": "execute_result"
    }
   ],
   "source": [
    "#INITIAL EXPLORATION OF CORRELATION BETWEWN PASSENGERS AND TRIPS\n",
    "df1[[\"DESPACHOS\", \"PASAJEROS\"]].corr()"
   ]
  }
 ],
 "metadata": {
  "kernelspec": {
   "display_name": "Python 3",
   "language": "python",
   "name": "python3"
  },
  "language_info": {
   "codemirror_mode": {
    "name": "ipython",
    "version": 3
   },
   "file_extension": ".py",
   "mimetype": "text/x-python",
   "name": "python",
   "nbconvert_exporter": "python",
   "pygments_lexer": "ipython3",
   "version": "3.8.8"
  }
 },
 "nbformat": 4,
 "nbformat_minor": 5
}
